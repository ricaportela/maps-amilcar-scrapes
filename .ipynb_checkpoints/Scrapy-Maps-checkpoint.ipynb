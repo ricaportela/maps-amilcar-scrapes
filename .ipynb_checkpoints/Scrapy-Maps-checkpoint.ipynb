{
 "cells": [
  {
   "cell_type": "code",
   "execution_count": null,
   "id": "ee1fd8e5",
   "metadata": {},
   "outputs": [],
   "source": [
    "from selenium import webdriver\n",
    "from selenium.webdriver.common.keys import Keys\n",
    "from selenium.webdriver.common.by import By\n",
    "from selenium.webdriver import ActionChains\n",
    "from selenium.webdriver.support.ui import WebDriverWait\n",
    "from selenium.webdriver.support import expected_conditions as EC\n",
    "\n",
    "from time import sleep\n",
    "import pandas as pd\n",
    "import re"
   ]
  },
  {
   "cell_type": "code",
   "execution_count": null,
   "id": "cfc9d13e",
   "metadata": {},
   "outputs": [],
   "source": [
    "driver = webdriver.Chrome()"
   ]
  },
  {
   "cell_type": "code",
   "execution_count": null,
   "id": "8cab544b",
   "metadata": {},
   "outputs": [],
   "source": [
    "url = \"https://www.google.com/maps/search/escolas+guaraII++brasilia+-+df+/@-15.7964951,-47.9748376,13z\""
   ]
  },
  {
   "cell_type": "code",
   "execution_count": null,
   "id": "43f9f06e",
   "metadata": {},
   "outputs": [],
   "source": [
    "driver.get(url)"
   ]
  },
  {
   "cell_type": "code",
   "execution_count": null,
   "id": "1b2f5a8c",
   "metadata": {},
   "outputs": [],
   "source": [
    "def top(driver):\n",
    "    sleep(0.5)\n",
    "    driver.execute_script(\"window.scrollTo(0, 0);\")\n",
    "\n",
    "\n",
    "def bottom(driver):\n",
    "    sleep(0.5)\n",
    "    driver.execute_script(\"window.scrollTo(0, document.body.scrollHeight);\")\n",
    "\n",
    "\n",
    "def page_down(driver):\n",
    "    actions = ActionChains(driver)\n",
    "    actions.pause(0.3)\n",
    "    actions.send_keys(Keys.PAGE_DOWN)\n",
    "    actions.perform()\n",
    "\n",
    "\n",
    "def page_up(driver):\n",
    "    actions = ActionChains(driver)\n",
    "    actions.pause(0.3)\n",
    "    actions.send_keys(Keys.PAGE_UP)\n",
    "    actions.perform()"
   ]
  },
  {
   "cell_type": "code",
   "execution_count": null,
   "id": "c5285d12",
   "metadata": {},
   "outputs": [],
   "source": [
    "def scroll_page(driver):\n",
    "    SCROLL_PAUSE_TIME = 0.5\n",
    "    last_height = driver.execute_script(\"return document.body.scrollHeight\")\n",
    "    while True:\n",
    "        # Scroll down to bottom\n",
    "        driver.execute_script(\"window.scrollTo(0, document.body.scrollHeight);\")\n",
    "        # Wait to load page\n",
    "        time.sleep(SCROLL_PAUSE_TIME)\n",
    "        # Calculate new scroll height and compare with last scroll height\n",
    "        new_height = driver.execute_script(\"return document.body.scrollHeight\")\n",
    "        if new_height == last_height:\n",
    "            return True\n",
    "        last_height = new_height\n"
   ]
  },
  {
   "cell_type": "code",
   "execution_count": null,
   "id": "8c4df47b",
   "metadata": {},
   "outputs": [],
   "source": [
    "page_up(driver)\n"
   ]
  },
  {
   "cell_type": "code",
   "execution_count": null,
   "id": "5ce10563",
   "metadata": {},
   "outputs": [],
   "source": [
    "def get_results():\n",
    "    results = []\n",
    "\n",
    "    while True:\n",
    "        page_content = driver.page_source\n",
    "        response = Selector(page_content)\n",
    "        divs = response.xpath('//div[contains(@aria-label, \"Resultados\")]/div/div[./a]')\n",
    "        for div in divs:\n",
    "            results.append({\"Descricao\": div.xpath(\"./a/@aria-label\").get()})\n",
    "        \n",
    "        if response.xpath('//*/text()[contains(., \"Você chegou ao final da lista.\")]'):\n",
    "            break\n",
    "\n",
    "    return results"
   ]
  },
  {
   "cell_type": "code",
   "execution_count": null,
   "id": "ed78fb40",
   "metadata": {},
   "outputs": [],
   "source": [
    "driver.execute_script('window.scrollTo(0, document.body.scrollHeight);')"
   ]
  },
  {
   "cell_type": "code",
   "execution_count": null,
   "id": "5543e8d1",
   "metadata": {},
   "outputs": [],
   "source": [
    "# driver.find_element(By.XPATH, '//button[contains(@id, \"section-pagination-button-next\") and not(@disabled=\"true\")]').click()"
   ]
  },
  {
   "cell_type": "code",
   "execution_count": null,
   "id": "88b09c08",
   "metadata": {},
   "outputs": [],
   "source": []
  },
  {
   "cell_type": "code",
   "execution_count": null,
   "id": "1b67fb6f",
   "metadata": {},
   "outputs": [],
   "source": [
    "len(get_results())"
   ]
  },
  {
   "cell_type": "code",
   "execution_count": null,
   "id": "66833614",
   "metadata": {},
   "outputs": [],
   "source": [
    "get_results()"
   ]
  },
  {
   "cell_type": "code",
   "execution_count": null,
   "id": "2f782136",
   "metadata": {},
   "outputs": [],
   "source": [
    "page_content = driver.page_source\n",
    "response = Selector(page_content)"
   ]
  },
  {
   "cell_type": "code",
   "execution_count": null,
   "id": "ab7357e7",
   "metadata": {},
   "outputs": [],
   "source": [
    "response.xpath('//div[contains(@aria-label, \"Resultados\")]/div/div[./a]').extract_first()"
   ]
  },
  {
   "cell_type": "code",
   "execution_count": null,
   "id": "8ab8ed0a",
   "metadata": {},
   "outputs": [],
   "source": []
  }
 ],
 "metadata": {
  "kernelspec": {
   "display_name": "Python 3 (ipykernel)",
   "language": "python",
   "name": "python3"
  },
  "language_info": {
   "codemirror_mode": {
    "name": "ipython",
    "version": 3
   },
   "file_extension": ".py",
   "mimetype": "text/x-python",
   "name": "python",
   "nbconvert_exporter": "python",
   "pygments_lexer": "ipython3",
   "version": "3.10.5"
  }
 },
 "nbformat": 4,
 "nbformat_minor": 5
}
