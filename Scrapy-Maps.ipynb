{
 "cells": [
  {
   "cell_type": "code",
   "execution_count": 1,
   "id": "ee1fd8e5",
   "metadata": {},
   "outputs": [],
   "source": [
    "from selenium import webdriver\n",
    "from selenium.webdriver.common.keys import Keys\n",
    "from selenium.webdriver.common.by import By\n",
    "from selenium.webdriver import ActionChains\n",
    "from selenium.webdriver.support.ui import WebDriverWait\n",
    "from selenium.webdriver.support import expected_conditions as EC\n",
    "from parsel import Selector\n",
    "from time import sleep\n",
    "import re"
   ]
  },
  {
   "cell_type": "code",
   "execution_count": 2,
   "id": "cfc9d13e",
   "metadata": {},
   "outputs": [],
   "source": [
    "driver = webdriver.Chrome()"
   ]
  },
  {
   "cell_type": "code",
   "execution_count": 3,
   "id": "8cab544b",
   "metadata": {},
   "outputs": [],
   "source": [
    "url = \"https://www.google.com/maps/search/escolas+guaraII++brasilia+-+df+/@-15.7964951,-47.9748376,13z\""
   ]
  },
  {
   "cell_type": "code",
   "execution_count": 4,
   "id": "43f9f06e",
   "metadata": {},
   "outputs": [],
   "source": [
    "driver.get(url)"
   ]
  },
  {
   "cell_type": "code",
   "execution_count": 5,
   "id": "0feb53a5",
   "metadata": {},
   "outputs": [],
   "source": [
    "def top(driver):\n",
    "    sleep(0.5)\n",
    "    driver.execute_script(\"window.scrollTo(0, 0);\")\n",
    "\n",
    "\n",
    "def bottom(driver):\n",
    "    sleep(0.5)\n",
    "    driver.execute_script(\"window.scrollTo(0, document.body.scrollHeight);\")\n",
    "\n",
    "\n",
    "def page_down(driver):\n",
    "    actions = ActionChains(driver)\n",
    "    actions.pause(0.3)\n",
    "    actions.send_keys(Keys.PAGE_DOWN)\n",
    "    actions.perform()\n",
    "\n",
    "\n",
    "def page_up(driver):\n",
    "    actions = ActionChains(driver)\n",
    "    actions.pause(0.3)\n",
    "    actions.send_keys(Keys.PAGE_UP)\n",
    "    actions.perform()"
   ]
  },
  {
   "cell_type": "code",
   "execution_count": 6,
   "id": "c5285d12",
   "metadata": {},
   "outputs": [],
   "source": [
    "def scroll_page(driver):\n",
    "    SCROLL_PAUSE_TIME = 0.5\n",
    "    last_height = driver.execute_script(\"return document.body.scrollHeight\")\n",
    "    while True:\n",
    "        # Scroll down to bottom\n",
    "        driver.execute_script(\"window.scrollTo(0, document.body.scrollHeight);\")\n",
    "        # Wait to load page\n",
    "        time.sleep(SCROLL_PAUSE_TIME)\n",
    "        # Calculate new scroll height and compare with last scroll height\n",
    "        new_height = driver.execute_script(\"return document.body.scrollHeight\")\n",
    "        if new_height == last_height:\n",
    "            return True\n",
    "        last_height = new_height\n"
   ]
  },
  {
   "cell_type": "code",
   "execution_count": null,
   "id": "adef0a2f",
   "metadata": {},
   "outputs": [],
   "source": []
  },
  {
   "cell_type": "code",
   "execution_count": 7,
   "id": "5ce10563",
   "metadata": {},
   "outputs": [],
   "source": [
    "def get_results():\n",
    "    results = []\n",
    "\n",
    "    while True:\n",
    "        page_content = driver.page_source\n",
    "        response = Selector(page_content)\n",
    "        if response.xpath('//*/text()[contains(., \"Você chegou ao final da lista.\")]'):\n",
    "            page_content = driver.page_source\n",
    "            response = Selector(page_content)\n",
    "            divs = response.xpath('//div[contains(@aria-label, \"Resultados\")]/div/div[./a]')\n",
    "            for div in divs:\n",
    "                results.append({\"Descricao\": div.xpath(\"./a/@aria-label\").get()})\n",
    "        \n",
    "            break\n",
    "        else:\n",
    "            page_down(driver)\n",
    "\n",
    "    return results"
   ]
  },
  {
   "cell_type": "code",
   "execution_count": null,
   "id": "ed78fb40",
   "metadata": {},
   "outputs": [],
   "source": [
    "driver.execute_script('window.scrollTo(0, document.body.scrollHeight);')"
   ]
  },
  {
   "cell_type": "code",
   "execution_count": null,
   "id": "96529128",
   "metadata": {},
   "outputs": [],
   "source": [
    "# driver.find_element(By.XPATH, '//button[contains(@id, \"section-pagination-button-next\") and not(@disabled=\"true\")]').click()"
   ]
  },
  {
   "cell_type": "code",
   "execution_count": null,
   "id": "72557b3d",
   "metadata": {},
   "outputs": [],
   "source": []
  },
  {
   "cell_type": "code",
   "execution_count": 9,
   "id": "1b67fb6f",
   "metadata": {},
   "outputs": [
    {
     "data": {
      "text/plain": [
       "122"
      ]
     },
     "execution_count": 9,
     "metadata": {},
     "output_type": "execute_result"
    }
   ],
   "source": [
    "len(get_results())"
   ]
  },
  {
   "cell_type": "code",
   "execution_count": 8,
   "id": "66833614",
   "metadata": {},
   "outputs": [
    {
     "data": {
      "text/plain": [
       "[{'Descricao': 'Colégio Seriös'},\n",
       " {'Descricao': 'Colégio Objetivo DF - Vicente Pires'},\n",
       " {'Descricao': 'CEF 10 do Guará'},\n",
       " {'Descricao': 'CED 01 de Guará'},\n",
       " {'Descricao': 'Colégio e Faculdade Projeção - Guará II'},\n",
       " {'Descricao': 'CEF 05 do Guará'},\n",
       " {'Descricao': 'Colégio Rogacionista Social Santo Anibal'},\n",
       " {'Descricao': 'Escola Pedacinho do Céu - Guará'},\n",
       " {'Descricao': 'EC 06 de Guará'},\n",
       " {'Descricao': 'Colégio Objetivo DF - Guará'},\n",
       " {'Descricao': 'EC 08 de Guará'},\n",
       " {'Descricao': 'CED 03 de Guará (Centrão)'},\n",
       " {'Descricao': 'EC 07 de Guará'},\n",
       " {'Descricao': 'Escola João e Maria'},\n",
       " {'Descricao': 'Escola Aviãozinho'},\n",
       " {'Descricao': 'CEF 08 do Guará'},\n",
       " {'Descricao': 'Escola A Panterinha'},\n",
       " {'Descricao': 'Escola Adventista de Guará'},\n",
       " {'Descricao': 'Colégio Rogacionista - Sede'},\n",
       " {'Descricao': 'EC do SRIA'},\n",
       " {'Descricao': 'Escola Aprender Brincando'},\n",
       " {'Descricao': 'Escola Cantinho Cristão'},\n",
       " {'Descricao': 'Escola Cantinho Cristão'},\n",
       " {'Descricao': 'Centro de Educação Paraíso Encantado'},\n",
       " {'Descricao': 'Escola Infantil Mundo Mágico do Saber'},\n",
       " {'Descricao': 'ESCOLA TIO PATINHAS DE EDUCAÇÃO INFANTIL'},\n",
       " {'Descricao': 'Amor de Mãe Espaço Pedagógico'},\n",
       " {'Descricao': 'C. E. R. Castelinho Pim'},\n",
       " {'Descricao': 'Colégio Rogacionista - Núcleo 1'},\n",
       " {'Descricao': 'CENTRO DE ENSINO DEGRAU DOS SONHOS LTDA'},\n",
       " {'Descricao': 'EC 02 de Guará'},\n",
       " {'Descricao': 'CEM 01 do Guará - GG'},\n",
       " {'Descricao': 'Reforço Escolar Aprender'},\n",
       " {'Descricao': 'Profa Todo Dia'},\n",
       " {'Descricao': 'CEF 02 do Guará'},\n",
       " {'Descricao': 'CEF 01 de Guará'},\n",
       " {'Descricao': 'EC 05 de Guará'},\n",
       " {'Descricao': 'Escola Classe 03 Estrutural'},\n",
       " {'Descricao': 'Mamãe Coruja Educação Infantil'},\n",
       " {'Descricao': 'Escola Nacional de Esportes - Colégio Rogacionista'},\n",
       " {'Descricao': 'Creche Sementinha de Vida - Guará 2 - Brasília-DF'},\n",
       " {'Descricao': 'Colégio Guarazinho'},\n",
       " {'Descricao': 'EC 01 do Guará'},\n",
       " {'Descricao': 'CEF 04 de Guará'},\n",
       " {'Descricao': 'Ativamente Apoio Escolar'},\n",
       " {'Descricao': 'Centro de Educação Profissional de Guará Professora Teresa Ondina Maltese'},\n",
       " {'Descricao': 'Educare - Acompanhamento Pedagógico e Kids'},\n",
       " {'Descricao': 'Espaço Querubim, Berçário, Creche e Recreação Ltda.'},\n",
       " {'Descricao': 'Colégio Progressão'},\n",
       " {'Descricao': 'EC 03 de Guará'},\n",
       " {'Descricao': 'Centro Integral Oficina do Saber Guará'},\n",
       " {'Descricao': 'UNIP GUARA'},\n",
       " {'Descricao': 'Tio Ronan - Escola de Música'},\n",
       " {'Descricao': 'AUTO ESCOLA UNITRAN'},\n",
       " {'Descricao': 'Espaço do Saber'},\n",
       " {'Descricao': 'Creche Comunitária da Qe 38 do Guará II'},\n",
       " {'Descricao': 'Escola de Piloto de Kart Fellipe de Moraes'},\n",
       " {'Descricao': 'CEF 02 de Estrutural'},\n",
       " {'Descricao': 'Wizard - Escola de Idiomas'},\n",
       " {'Descricao': 'Creche Sorriso De Maria'},\n",
       " {'Descricao': 'Coordenação Regional de Ensino de Guará'},\n",
       " {'Descricao': 'Espaço Infantil Yedda Calháo'},\n",
       " {'Descricao': 'Espaço Criança Centro de Educação'},\n",
       " {'Descricao': 'Kumon Guara II/Qe 34 Df'},\n",
       " {'Descricao': 'Escola Asas da Costura, com livro próprio e réguas'},\n",
       " {'Descricao': 'Estudio De Dança Esmeralda Borges'},\n",
       " {'Descricao': 'Escola de Combate Fernando Goes'},\n",
       " {'Descricao': 'Creche Kids of God - Baba Creche Guara II DF'},\n",
       " {'Descricao': 'Reforço Escolar e Apoio Pedagógico - Reap'},\n",
       " {'Descricao': 'Método Supera Guará'},\n",
       " {'Descricao': 'Música & Cia.'},\n",
       " {'Descricao': 'Fênix Reforço Escolar'},\n",
       " {'Descricao': 'Escola Nacional de Esportes - Projeção Guará I'},\n",
       " {'Descricao': 'CCAA GUARA'},\n",
       " {'Descricao': 'Auto Escola Globo - Unidade Guará'},\n",
       " {'Descricao': 'CEF 06 de Brasília'},\n",
       " {'Descricao': 'Casa do Beija Flor'},\n",
       " {'Descricao': 'Cooplem Idiomas'},\n",
       " {'Descricao': 'Patty Ballet'},\n",
       " {'Descricao': 'Wizard by Pearson Guara Qe13'},\n",
       " {'Descricao': 'Kumon Guara Ii-Qi 25'},\n",
       " {'Descricao': 'Espaço Sonoro Academia de Música e Artes'},\n",
       " {'Descricao': 'Ponto AL Transporte Escolar'},\n",
       " {'Descricao': 'Estacionamento Escola Classe 08 Guará II'},\n",
       " {'Descricao': 'Escola Asas da costura, Faz sua Coleção de Moda, no seu empreendimento novo. Costure pra você.'},\n",
       " {'Descricao': 'IESB GUARÁ'},\n",
       " {'Descricao': 'bambolearte espaço infantil'},\n",
       " {'Descricao': 'Auto Escola Brasiliense Guará'},\n",
       " {'Descricao': 'Tardezinha EC08'},\n",
       " {'Descricao': 'Park Idiomas Guará'},\n",
       " {'Descricao': 'Ballizo Studio de Ballet'},\n",
       " {'Descricao': 'Templo Escola Pai João de Aruanda - Umbanda'},\n",
       " {'Descricao': 'CCI- Centro de Capacitação da inteligência'},\n",
       " {'Descricao': 'CNA Guará: Curso de Inglês, Curso de Espanhol, Intercâmbio, Brasília DF'},\n",
       " {'Descricao': 'Transporte Escolar Brasiliense Guará'},\n",
       " {'Descricao': 'CEF 07 de Brasília'},\n",
       " {'Descricao': 'Escola de Costura Tina'},\n",
       " {'Descricao': 'Universidade Cruzeiro do Sul Virtual - Guará'},\n",
       " {'Descricao': 'Espaço Da Dança'},\n",
       " {'Descricao': 'EDUC TREINA CURSOS E TREINAMENTOS PROFISSIONAIS'},\n",
       " {'Descricao': 'Eden Garden Bilingual School'},\n",
       " {'Descricao': 'Kumon Guara Olympique'},\n",
       " {'Descricao': 'Transporte Escolar Leão de Judá Guará para Asa Sul e L2 Sul'},\n",
       " {'Descricao': 'Centro Socioeducativo Santo Aníbal Maria'},\n",
       " {'Descricao': 'EQ 24/26'},\n",
       " {'Descricao': 'Wizard by Pearson Brasília Guará'},\n",
       " {'Descricao': 'Centro Universitário Icesp - Guará'},\n",
       " {'Descricao': 'Associação de Integração Social de Brasília - Sorriso de Maria'},\n",
       " {'Descricao': 'Água Vida'},\n",
       " {'Descricao': 'Arena Guaraense - Futevôlei'},\n",
       " {'Descricao': 'CCI- Centro de Capacitação da inteligência'},\n",
       " {'Descricao': 'Tina Ramos, Escola Asas da Costura'},\n",
       " {'Descricao': 'Escola Classe 403 Norte'},\n",
       " {'Descricao': 'EQ 13/15'},\n",
       " {'Descricao': 'Curso de Banho e Tosa em Brasilia DF - Escola Groomer'},\n",
       " {'Descricao': 'Escola Mundo Mágico'},\n",
       " {'Descricao': 'Colégio Pró-Educ'},\n",
       " {'Descricao': 'Academia Ippon de Karate'},\n",
       " {'Descricao': 'Colégio Vitória Régia - Unidade 1'},\n",
       " {'Descricao': 'ESCOLA NÁUTICA CENTRO OESTE'},\n",
       " {'Descricao': 'Cefor Pronto-Pé'},\n",
       " {'Descricao': 'EscoLar Educacional'}]"
      ]
     },
     "execution_count": 8,
     "metadata": {},
     "output_type": "execute_result"
    }
   ],
   "source": [
    "get_results()"
   ]
  },
  {
   "cell_type": "code",
   "execution_count": null,
   "id": "2f782136",
   "metadata": {},
   "outputs": [],
   "source": [
    "page_content = driver.page_source\n",
    "response = Selector(page_content)"
   ]
  },
  {
   "cell_type": "code",
   "execution_count": null,
   "id": "ab7357e7",
   "metadata": {},
   "outputs": [],
   "source": [
    "response.xpath('//div[contains(@aria-label, \"Resultados\")]/div/div[./a]').extract_first()"
   ]
  },
  {
   "cell_type": "code",
   "execution_count": 10,
   "id": "8ab8ed0a",
   "metadata": {},
   "outputs": [],
   "source": [
    "driver.close()"
   ]
  },
  {
   "cell_type": "code",
   "execution_count": null,
   "id": "a0a7e1bf",
   "metadata": {},
   "outputs": [],
   "source": []
  }
 ],
 "metadata": {
  "kernelspec": {
   "display_name": "Python 3 (ipykernel)",
   "language": "python",
   "name": "python3"
  },
  "language_info": {
   "codemirror_mode": {
    "name": "ipython",
    "version": 3
   },
   "file_extension": ".py",
   "mimetype": "text/x-python",
   "name": "python",
   "nbconvert_exporter": "python",
   "pygments_lexer": "ipython3",
   "version": "3.10.5"
  }
 },
 "nbformat": 4,
 "nbformat_minor": 5
}
